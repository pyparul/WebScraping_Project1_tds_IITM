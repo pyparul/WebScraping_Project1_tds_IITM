{
  "cells": [
    {
      "cell_type": "code",
      "execution_count": 1,
      "metadata": {
        "id": "rFxr8HCXvQK7"
      },
      "outputs": [],
      "source": [
        "import pandas as pd\n",
        "import numpy as np\n",
        "\n",
        "import requests\n",
        "from bs4 import BeautifulSoup"
      ]
    },
    {
      "cell_type": "code",
      "execution_count": 2,
      "metadata": {
        "id": "wD0vWcfQvQK-"
      },
      "outputs": [],
      "source": [
        "url = 'https://www.senate.gov/legislative/LIS/roll_call_votes/vote1171/vote_117_1_00102.htm'\n",
        "req = requests.get(url)\n",
        "soup = BeautifulSoup(req.content, 'html5lib')"
      ]
    },
    {
      "cell_type": "code",
      "execution_count": 3,
      "metadata": {
        "id": "q0odvqjbvQK_"
      },
      "outputs": [],
      "source": [
        "Alphabetical_by_Senator_Name = soup.find('span', class_ = 'contenttext').text"
      ]
    },
    {
      "cell_type": "code",
      "execution_count": 4,
      "metadata": {
        "id": "RViay7izvQK_"
      },
      "outputs": [],
      "source": [
        "Alphabetical_by_Senator_Name_list = Alphabetical_by_Senator_Name.split('\\n')[0:-2]\n"
      ]
    },
    {
      "cell_type": "code",
      "execution_count": 5,
      "metadata": {
        "id": "wNW9Ha7TvQLA"
      },
      "outputs": [],
      "source": [
        "Democratic = []\n",
        "Republican = []\n",
        "Independent = []\n",
        "\n",
        "for each in Alphabetical_by_Senator_Name_list:\n",
        "    if 'D-' in each:\n",
        "        Democratic.append(each)\n",
        "    elif 'R-' in each:\n",
        "        Republican.append(each)\n",
        "    elif 'I-' in each:\n",
        "        Independent.append(each)"
      ]
    },
    {
      "cell_type": "code",
      "execution_count": 6,
      "metadata": {
        "id": "BBqZPYbkvQLA"
      },
      "outputs": [],
      "source": [
        "def yea(list):\n",
        "    yea_list = []\n",
        "    for each in list:\n",
        "        if 'Yea' in each:\n",
        "            yea_list.append(each)\n",
        "\n",
        "    return yea_list\n",
        "\n",
        "def nay(list):\n",
        "    nay_list = []\n",
        "    for each in list:\n",
        "        if 'Nay' in each:\n",
        "            nay_list.append(each)\n",
        "\n",
        "    return nay_list\n",
        "\n",
        "def novote(list):\n",
        "    novote = []\n",
        "    for each in list:\n",
        "        if 'Not Voting' in each:\n",
        "            novote.append(each)\n",
        "\n",
        "    return novote"
      ]
    },
    {
      "cell_type": "code",
      "execution_count": 7,
      "metadata": {
        "id": "cdPyS8ptvQLB"
      },
      "outputs": [],
      "source": [
        "grouped_by_homestate = soup.find_all('div', {'width': '33%', 'class': 'contenttext responsive_col'})"
      ]
    },
    {
      "cell_type": "code",
      "execution_count": 8,
      "metadata": {
        "id": "NDq_ManvvQLC"
      },
      "outputs": [],
      "source": [
        "scraped_grouped_by_homestate = []\n",
        "if grouped_by_homestate:\n",
        "    for div in grouped_by_homestate:\n",
        "        scraped_grouped_by_homestate.append(div.get_text(strip=True))"
      ]
    },
    {
      "cell_type": "code",
      "execution_count": 9,
      "metadata": {
        "id": "FMlWQU0zvQLC"
      },
      "outputs": [],
      "source": [
        "n = len(scraped_grouped_by_homestate)\n",
        "dict_grouped_by_homestate = {}\n",
        "\n",
        "for i in range(n):\n",
        "    if i == 0 or i%3 == 0:\n",
        "        dict_grouped_by_homestate[scraped_grouped_by_homestate[i]] = [scraped_grouped_by_homestate[i+1], scraped_grouped_by_homestate[i+2]]"
      ]
    },
    {
      "cell_type": "markdown",
      "source": [
        "#### 6. How many states have both Republican senators?"
      ],
      "metadata": {
        "id": "NWigxN683CVW"
      }
    },
    {
      "cell_type": "code",
      "execution_count": null,
      "metadata": {
        "colab": {
          "base_uri": "https://localhost:8080/"
        },
        "id": "53zy3dexvQLD",
        "outputId": "0513620d-37ff-4772-dfd7-97083a9db9d1"
      },
      "outputs": [
        {
          "output_type": "execute_result",
          "data": {
            "text/plain": [
              "22"
            ]
          },
          "metadata": {},
          "execution_count": 10
        }
      ],
      "source": [
        "both_republican_state = []\n",
        "for state, representatives in dict_grouped_by_homestate.items():\n",
        "    r = 0\n",
        "    for each in representatives:\n",
        "        if 'R-' in each:\n",
        "            r += 1\n",
        "            if r == 2:\n",
        "                both_republican_state.append(state)\n",
        "\n",
        "len(both_republican_state)"
      ]
    },
    {
      "cell_type": "markdown",
      "source": [
        "#### 9. What is the ratio of Democrats' major decision votes to Republicans' major decision votes?"
      ],
      "metadata": {
        "id": "2G0IBm4Q3dZ8"
      }
    },
    {
      "cell_type": "code",
      "source": [
        "demo = max(len(yea(Democratic)), len(nay(Democratic)))\n",
        "repub = max(len(yea(Republican)), len(nay(Republican)))"
      ],
      "metadata": {
        "id": "r1D_OiCVnZfo"
      },
      "execution_count": 10,
      "outputs": []
    },
    {
      "cell_type": "code",
      "source": [
        "demo/repub"
      ],
      "metadata": {
        "colab": {
          "base_uri": "https://localhost:8080/"
        },
        "id": "Wy0l22Kfnphk",
        "outputId": "c891274f-7993-4260-880f-21013d83168a"
      },
      "execution_count": 11,
      "outputs": [
        {
          "output_type": "execute_result",
          "data": {
            "text/plain": [
              "0.9795918367346939"
            ]
          },
          "metadata": {},
          "execution_count": 11
        }
      ]
    },
    {
      "cell_type": "markdown",
      "source": [
        "####5. How many states had at least one non-voting senator?"
      ],
      "metadata": {
        "id": "OlFKFos04BdH"
      }
    },
    {
      "cell_type": "code",
      "execution_count": 12,
      "metadata": {
        "colab": {
          "base_uri": "https://localhost:8080/"
        },
        "id": "jsUVyzFgvQLG",
        "outputId": "aee30b7c-7ed2-4804-922a-7adf8485a061"
      },
      "outputs": [
        {
          "output_type": "execute_result",
          "data": {
            "text/plain": [
              "1"
            ]
          },
          "metadata": {},
          "execution_count": 12
        }
      ],
      "source": [
        "atleast_one_notvoting_senetor_state = []\n",
        "for state, representatives in dict_grouped_by_homestate.items():\n",
        "    r = 0\n",
        "    for each in representatives:\n",
        "        if 'Not' in each:\n",
        "            r += 1\n",
        "            if r >= 1:\n",
        "                atleast_one_notvoting_senetor_state.append(state)\n",
        "len(atleast_one_notvoting_senetor_state)"
      ]
    },
    {
      "cell_type": "markdown",
      "source": [
        "#### 12. How many senators voted \"Nay\"?"
      ],
      "metadata": {
        "id": "6iQ1M3Nl4PWU"
      }
    },
    {
      "cell_type": "code",
      "execution_count": 13,
      "metadata": {
        "colab": {
          "base_uri": "https://localhost:8080/"
        },
        "id": "OR-PTdlQvQLG",
        "outputId": "f62d1bc6-851c-4bdb-d10b-86f08070f084"
      },
      "outputs": [
        {
          "output_type": "execute_result",
          "data": {
            "text/plain": [
              "50"
            ]
          },
          "metadata": {},
          "execution_count": 13
        }
      ],
      "source": [
        "nay_count = len(nay(Alphabetical_by_Senator_Name_list))\n",
        "nay_count"
      ]
    },
    {
      "cell_type": "markdown",
      "source": [
        "####3. What is the total number of \"Yea\" votes from senators whose names start with \"B\"?"
      ],
      "metadata": {
        "id": "txaZ3D7b4aZV"
      }
    },
    {
      "cell_type": "code",
      "execution_count": 14,
      "metadata": {
        "id": "up_CC4HavQLG"
      },
      "outputs": [],
      "source": [
        "yea_votes_from_b_senators = [senator for senator in Alphabetical_by_Senator_Name_list if senator.startswith(\"B\") and \"Yea\" in senator]"
      ]
    },
    {
      "cell_type": "code",
      "execution_count": 15,
      "metadata": {
        "colab": {
          "base_uri": "https://localhost:8080/"
        },
        "id": "HZt0h-b_vQLH",
        "outputId": "fba3e31e-14d7-4abc-df4f-679492d3b30e"
      },
      "outputs": [
        {
          "output_type": "execute_result",
          "data": {
            "text/plain": [
              "6"
            ]
          },
          "metadata": {},
          "execution_count": 15
        }
      ],
      "source": [
        "yea_count_b = len(yea_votes_from_b_senators)\n",
        "yea_count_b"
      ]
    },
    {
      "cell_type": "markdown",
      "source": [
        "####1. How many Democrats did not vote?"
      ],
      "metadata": {
        "id": "kZuAOhS44n9I"
      }
    },
    {
      "cell_type": "code",
      "execution_count": 16,
      "metadata": {
        "colab": {
          "base_uri": "https://localhost:8080/"
        },
        "id": "wbumQvapvQLH",
        "outputId": "d3a84e6e-2799-4fc4-a49e-1ad7bb522439"
      },
      "outputs": [
        {
          "output_type": "execute_result",
          "data": {
            "text/plain": [
              "0"
            ]
          },
          "metadata": {},
          "execution_count": 16
        }
      ],
      "source": [
        "novote_count_democrat = len(novote(Democratic))\n",
        "novote_count_democrat"
      ]
    },
    {
      "cell_type": "markdown",
      "source": [
        "#### 10.What is the highest absolute percentage difference between \"Yea\" and \"Nay\" votes among different parties?"
      ],
      "metadata": {
        "id": "dwwU4wwU47J-"
      }
    },
    {
      "cell_type": "code",
      "execution_count": 20,
      "metadata": {
        "id": "zHWrw_v7vQLI"
      },
      "outputs": [],
      "source": [
        "def absolute_percentage_difference(value1, value2):\n",
        "    val1 = (value1/(value1 + value2))*100\n",
        "    val2 = (value2/(value1 + value2))*100\n",
        "    num = abs(val1 - val2)\n",
        "    return num"
      ]
    },
    {
      "cell_type": "code",
      "source": [
        "print('absolute percentage difference for Republican:', absolute_percentage_difference(len(yea(Republican)), len(nay(Republican))))\n",
        "print('absolute percentage difference for Democrat:', absolute_percentage_difference(len(yea(Democratic)), len(nay(Democratic))))\n",
        "print('absolute percentage difference for Independent:', absolute_percentage_difference(len(yea(Independent)), len(nay(Independent))))"
      ],
      "metadata": {
        "colab": {
          "base_uri": "https://localhost:8080/"
        },
        "id": "SJaPMwXK5bUQ",
        "outputId": "ae68ccb8-6ada-44ab-ffa8-b086733acc8e"
      },
      "execution_count": 21,
      "outputs": [
        {
          "output_type": "stream",
          "name": "stdout",
          "text": [
            "absolute percentage difference for Republican: 100.0\n",
            "absolute percentage difference for Democrat: 100.0\n",
            "absolute percentage difference for Independent: 100.0\n"
          ]
        }
      ]
    },
    {
      "cell_type": "code",
      "source": [
        "# Final Answer required in Numeric:\n",
        "# So, 100% = 1 Should be correct answer"
      ],
      "metadata": {
        "id": "T2JvU0YomNWs"
      },
      "execution_count": 22,
      "outputs": []
    },
    {
      "cell_type": "markdown",
      "source": [
        "#### 11.How many Democrats voted \"Yea\"?"
      ],
      "metadata": {
        "id": "PBcqRzA56fct"
      }
    },
    {
      "cell_type": "code",
      "execution_count": 23,
      "metadata": {
        "colab": {
          "base_uri": "https://localhost:8080/"
        },
        "id": "HnKeWuaovQLI",
        "outputId": "10ade575-6951-4715-82a3-e61b79674d4b"
      },
      "outputs": [
        {
          "output_type": "execute_result",
          "data": {
            "text/plain": [
              "0"
            ]
          },
          "metadata": {},
          "execution_count": 23
        }
      ],
      "source": [
        "yay_count_democrat = len(yea(Democratic))\n",
        "yay_count_democrat"
      ]
    },
    {
      "cell_type": "markdown",
      "source": [
        "#### 7.How many states have senators from both the Republican and Democrat parties?"
      ],
      "metadata": {
        "id": "aPv3usMp6puF"
      }
    },
    {
      "cell_type": "code",
      "execution_count": 24,
      "metadata": {
        "colab": {
          "base_uri": "https://localhost:8080/"
        },
        "id": "EitGuDk2vQLJ",
        "outputId": "1b06d48d-cca9-4d19-e5df-f67d4582a603"
      },
      "outputs": [
        {
          "output_type": "execute_result",
          "data": {
            "text/plain": [
              "5"
            ]
          },
          "metadata": {},
          "execution_count": 24
        }
      ],
      "source": [
        "both_republican_and_democrat_state = []\n",
        "for state, representatives in dict_grouped_by_homestate.items():\n",
        "    r = 0\n",
        "    d = 0\n",
        "    for each in representatives:\n",
        "        if 'R-' in each:\n",
        "            r += 1\n",
        "        if 'D-' in each:\n",
        "            d += 1\n",
        "        if r == 1 and d == 1:\n",
        "            both_republican_and_democrat_state.append(state)\n",
        "\n",
        "len(both_republican_and_democrat_state)"
      ]
    },
    {
      "cell_type": "markdown",
      "source": [
        "#### 14. How many senators did not vote?"
      ],
      "metadata": {
        "id": "h7xb6qYR66K_"
      }
    },
    {
      "cell_type": "code",
      "execution_count": 25,
      "metadata": {
        "colab": {
          "base_uri": "https://localhost:8080/"
        },
        "id": "2pBmykc-vQLJ",
        "outputId": "bc149486-805c-4f6b-eb8b-b70740f4d475"
      },
      "outputs": [
        {
          "output_type": "execute_result",
          "data": {
            "text/plain": [
              "1"
            ]
          },
          "metadata": {},
          "execution_count": 25
        }
      ],
      "source": [
        "nv_count = len(novote(Alphabetical_by_Senator_Name_list))\n",
        "nv_count"
      ]
    },
    {
      "cell_type": "code",
      "execution_count": 25,
      "metadata": {
        "id": "wH1OPzgfvQLK"
      },
      "outputs": [],
      "source": []
    }
  ],
  "metadata": {
    "kernelspec": {
      "display_name": "Python 3",
      "language": "python",
      "name": "python3"
    },
    "language_info": {
      "codemirror_mode": {
        "name": "ipython",
        "version": 3
      },
      "file_extension": ".py",
      "mimetype": "text/x-python",
      "name": "python",
      "nbconvert_exporter": "python",
      "pygments_lexer": "ipython3",
      "version": "3.11.4"
    },
    "orig_nbformat": 4,
    "colab": {
      "provenance": []
    }
  },
  "nbformat": 4,
  "nbformat_minor": 0
}
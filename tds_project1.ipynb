{
 "cells": [
  {
   "cell_type": "code",
   "execution_count": 2,
   "metadata": {},
   "outputs": [],
   "source": [
    "import pandas as pd\n",
    "import numpy as np\n",
    "\n",
    "import requests\n",
    "from bs4 import BeautifulSoup"
   ]
  },
  {
   "cell_type": "code",
   "execution_count": 3,
   "metadata": {},
   "outputs": [],
   "source": [
    "url = 'https://www.senate.gov/legislative/LIS/roll_call_votes/vote1171/vote_117_1_00102.htm'\n",
    "req = requests.get(url)\n",
    "soup = BeautifulSoup(req.content, 'html5lib')"
   ]
  },
  {
   "cell_type": "code",
   "execution_count": 4,
   "metadata": {},
   "outputs": [],
   "source": [
    "Alphabetical_by_Senator_Name = soup.find('span', class_ = 'contenttext').text"
   ]
  },
  {
   "cell_type": "code",
   "execution_count": 5,
   "metadata": {},
   "outputs": [],
   "source": [
    "Alphabetical_by_Senator_Name_list = Alphabetical_by_Senator_Name.split('\\n')[0:-2]\n"
   ]
  },
  {
   "cell_type": "code",
   "execution_count": 6,
   "metadata": {},
   "outputs": [],
   "source": [
    "Democratic = []\n",
    "Republican = []\n",
    "Independent = []\n",
    "\n",
    "for each in Alphabetical_by_Senator_Name_list:\n",
    "    if 'D-' in each:\n",
    "        Democratic.append(each)\n",
    "    elif 'R-' in each:\n",
    "        Republican.append(each)\n",
    "    elif 'I-' in each:\n",
    "        Independent.append(each)"
   ]
  },
  {
   "cell_type": "code",
   "execution_count": 21,
   "metadata": {},
   "outputs": [],
   "source": [
    "def yea(list):\n",
    "    yea_list = []\n",
    "    for each in list:\n",
    "        if 'Yea' in each:\n",
    "            yea_list.append(each)\n",
    "\n",
    "    return yea_list\n",
    "\n",
    "def nay(list):\n",
    "    nay_list = []\n",
    "    for each in list:\n",
    "        if 'Nay' in each:\n",
    "            nay_list.append(each)\n",
    "\n",
    "    return nay_list\n",
    "\n",
    "def novote(list):\n",
    "    novote = []\n",
    "    for each in list:\n",
    "        if 'Not Voting' in each:\n",
    "            novote.append(each)\n",
    "\n",
    "    return novote"
   ]
  },
  {
   "cell_type": "code",
   "execution_count": 8,
   "metadata": {},
   "outputs": [],
   "source": [
    "grouped_by_homestate = soup.find_all('div', {'width': '33%', 'class': 'contenttext responsive_col'})"
   ]
  },
  {
   "cell_type": "code",
   "execution_count": 9,
   "metadata": {},
   "outputs": [],
   "source": [
    "scraped_grouped_by_homestate = []\n",
    "if grouped_by_homestate:\n",
    "    for div in grouped_by_homestate:\n",
    "        scraped_grouped_by_homestate.append(div.get_text(strip=True))"
   ]
  },
  {
   "cell_type": "code",
   "execution_count": 11,
   "metadata": {},
   "outputs": [],
   "source": [
    "n = len(scraped_grouped_by_homestate)\n",
    "dict_grouped_by_homestate = {}\n",
    "\n",
    "for i in range(n):\n",
    "    if i == 0 or i%3 == 0:\n",
    "        dict_grouped_by_homestate[scraped_grouped_by_homestate[i]] = [scraped_grouped_by_homestate[i+1], scraped_grouped_by_homestate[i+2]]"
   ]
  },
  {
   "cell_type": "code",
   "execution_count": 13,
   "metadata": {},
   "outputs": [
    {
     "data": {
      "text/plain": [
       "22"
      ]
     },
     "execution_count": 13,
     "metadata": {},
     "output_type": "execute_result"
    }
   ],
   "source": [
    "# 6\n",
    "both_republican_state = []\n",
    "for state, representatives in dict_grouped_by_homestate.items():\n",
    "    r = 0\n",
    "    for each in representatives:\n",
    "        if 'R-' in each:\n",
    "            r += 1\n",
    "            if r == 2:\n",
    "                both_republican_state.append(state)\n",
    "\n",
    "len(both_republican_state)"
   ]
  },
  {
   "cell_type": "code",
   "execution_count": 16,
   "metadata": {},
   "outputs": [
    {
     "data": {
      "text/plain": [
       "1"
      ]
     },
     "execution_count": 16,
     "metadata": {},
     "output_type": "execute_result"
    }
   ],
   "source": [
    "# 5\n",
    "atleast_one_notvoting_senetor_state = []\n",
    "for state, representatives in dict_grouped_by_homestate.items():\n",
    "    r = 0\n",
    "    for each in representatives:\n",
    "        if 'Not' in each:\n",
    "            r += 1\n",
    "            if r >= 1:\n",
    "                atleast_one_notvoting_senetor_state.append(state)\n",
    "len(atleast_one_notvoting_senetor_state)"
   ]
  },
  {
   "cell_type": "code",
   "execution_count": 15,
   "metadata": {},
   "outputs": [
    {
     "data": {
      "text/plain": [
       "0.96"
      ]
     },
     "execution_count": 15,
     "metadata": {},
     "output_type": "execute_result"
    }
   ],
   "source": [
    "# 9\n",
    "len(Democratic)/len(Republican)"
   ]
  },
  {
   "cell_type": "code",
   "execution_count": 17,
   "metadata": {},
   "outputs": [
    {
     "data": {
      "text/plain": [
       "50"
      ]
     },
     "execution_count": 17,
     "metadata": {},
     "output_type": "execute_result"
    }
   ],
   "source": [
    "# 12\n",
    "nay_count = len(nay(Alphabetical_by_Senator_Name_list))\n",
    "nay_count"
   ]
  },
  {
   "cell_type": "code",
   "execution_count": 18,
   "metadata": {},
   "outputs": [],
   "source": [
    "# 3\n",
    "yea_votes_from_b_senators = [senator for senator in Alphabetical_by_Senator_Name_list if senator.startswith(\"B\") and \"Yea\" in senator]"
   ]
  },
  {
   "cell_type": "code",
   "execution_count": 19,
   "metadata": {},
   "outputs": [
    {
     "data": {
      "text/plain": [
       "6"
      ]
     },
     "execution_count": 19,
     "metadata": {},
     "output_type": "execute_result"
    }
   ],
   "source": [
    "yea_count_b = len(yea_votes_from_b_senators)\n",
    "yea_count_b"
   ]
  },
  {
   "cell_type": "code",
   "execution_count": 23,
   "metadata": {},
   "outputs": [
    {
     "data": {
      "text/plain": [
       "0"
      ]
     },
     "execution_count": 23,
     "metadata": {},
     "output_type": "execute_result"
    }
   ],
   "source": [
    "# 1\n",
    "nay_count_democrat = len(novote(Democratic))\n",
    "nay_count_democrat "
   ]
  },
  {
   "cell_type": "code",
   "execution_count": 113,
   "metadata": {},
   "outputs": [
    {
     "data": {
      "text/plain": [
       "2.0202020202020203"
      ]
     },
     "execution_count": 113,
     "metadata": {},
     "output_type": "execute_result"
    }
   ],
   "source": [
    "# 10\n",
    "def absolute_percentage_difference(value1, value2):\n",
    "    \"\"\"Calculate the absolute percentage difference between two values.\"\"\"\n",
    "    numerator = abs(value1 - value2)\n",
    "    denominator = (value1 + value2) / 2\n",
    "    percentage_difference = (numerator / denominator) * 100\n",
    "    return percentage_difference\n",
    "\n",
    "absolute_percentage_difference(nay_count, yea_count)"
   ]
  },
  {
   "cell_type": "code",
   "execution_count": 24,
   "metadata": {},
   "outputs": [
    {
     "data": {
      "text/plain": [
       "0"
      ]
     },
     "execution_count": 24,
     "metadata": {},
     "output_type": "execute_result"
    }
   ],
   "source": [
    "# 11\n",
    "yay_count_democrat = len(yea(Democratic))\n",
    "yay_count_democrat\n"
   ]
  },
  {
   "cell_type": "code",
   "execution_count": 25,
   "metadata": {},
   "outputs": [
    {
     "data": {
      "text/plain": [
       "5"
      ]
     },
     "execution_count": 25,
     "metadata": {},
     "output_type": "execute_result"
    }
   ],
   "source": [
    "# 7\n",
    "\n",
    "both_republican_and_democrat_state = []\n",
    "for state, representatives in dict_grouped_by_homestate.items():\n",
    "    r = 0\n",
    "    d = 0\n",
    "    for each in representatives:\n",
    "        if 'R-' in each:\n",
    "            r += 1\n",
    "        if 'D-' in each:\n",
    "            d += 1\n",
    "        if r == 1 and d == 1:\n",
    "            both_republican_and_democrat_state.append(state)\n",
    "\n",
    "len(both_republican_and_democrat_state)"
   ]
  },
  {
   "cell_type": "code",
   "execution_count": 26,
   "metadata": {},
   "outputs": [
    {
     "data": {
      "text/plain": [
       "1"
      ]
     },
     "execution_count": 26,
     "metadata": {},
     "output_type": "execute_result"
    }
   ],
   "source": [
    "# 14\n",
    "\n",
    "nv_count = len(novote(Alphabetical_by_Senator_Name_list))\n",
    "nv_count"
   ]
  },
  {
   "cell_type": "code",
   "execution_count": null,
   "metadata": {},
   "outputs": [],
   "source": []
  }
 ],
 "metadata": {
  "kernelspec": {
   "display_name": "Python 3",
   "language": "python",
   "name": "python3"
  },
  "language_info": {
   "codemirror_mode": {
    "name": "ipython",
    "version": 3
   },
   "file_extension": ".py",
   "mimetype": "text/x-python",
   "name": "python",
   "nbconvert_exporter": "python",
   "pygments_lexer": "ipython3",
   "version": "3.11.4"
  },
  "orig_nbformat": 4
 },
 "nbformat": 4,
 "nbformat_minor": 2
}

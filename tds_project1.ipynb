{
  "cells": [
    {
      "cell_type": "code",
      "execution_count": 1,
      "metadata": {
        "id": "rFxr8HCXvQK7"
      },
      "outputs": [],
      "source": [
        "import pandas as pd\n",
        "import numpy as np\n",
        "\n",
        "import requests\n",
        "from bs4 import BeautifulSoup"
      ]
    },
    {
      "cell_type": "code",
      "execution_count": 2,
      "metadata": {
        "id": "wD0vWcfQvQK-"
      },
      "outputs": [],
      "source": [
        "url = 'https://www.senate.gov/legislative/LIS/roll_call_votes/vote1171/vote_117_1_00102.htm'\n",
        "req = requests.get(url)\n",
        "soup = BeautifulSoup(req.content, 'html5lib')"
      ]
    },
    {
      "cell_type": "code",
      "execution_count": 3,
      "metadata": {
        "id": "q0odvqjbvQK_"
      },
      "outputs": [],
      "source": [
        "Alphabetical_by_Senator_Name = soup.find('span', class_ = 'contenttext').text"
      ]
    },
    {
      "cell_type": "code",
      "execution_count": 4,
      "metadata": {
        "id": "RViay7izvQK_"
      },
      "outputs": [],
      "source": [
        "Alphabetical_by_Senator_Name_list = Alphabetical_by_Senator_Name.split('\\n')[0:-2]\n"
      ]
    },
    {
      "cell_type": "code",
      "execution_count": 5,
      "metadata": {
        "id": "wNW9Ha7TvQLA"
      },
      "outputs": [],
      "source": [
        "Democratic = []\n",
        "Republican = []\n",
        "Independent = []\n",
        "\n",
        "for each in Alphabetical_by_Senator_Name_list:\n",
        "    if 'D-' in each:\n",
        "        Democratic.append(each)\n",
        "    elif 'R-' in each:\n",
        "        Republican.append(each)\n",
        "    elif 'I-' in each:\n",
        "        Independent.append(each)"
      ]
    },
    {
      "cell_type": "code",
      "execution_count": 6,
      "metadata": {
        "id": "BBqZPYbkvQLA"
      },
      "outputs": [],
      "source": [
        "def yea(list):\n",
        "    yea_list = []\n",
        "    for each in list:\n",
        "        if 'Yea' in each:\n",
        "            yea_list.append(each)\n",
        "\n",
        "    return yea_list\n",
        "\n",
        "def nay(list):\n",
        "    nay_list = []\n",
        "    for each in list:\n",
        "        if 'Nay' in each:\n",
        "            nay_list.append(each)\n",
        "\n",
        "    return nay_list\n",
        "\n",
        "def novote(list):\n",
        "    novote = []\n",
        "    for each in list:\n",
        "        if 'Not Voting' in each:\n",
        "            novote.append(each)\n",
        "\n",
        "    return novote"
      ]
    },
    {
      "cell_type": "code",
      "execution_count": 7,
      "metadata": {
        "id": "cdPyS8ptvQLB"
      },
      "outputs": [],
      "source": [
        "grouped_by_homestate = soup.find_all('div', {'width': '33%', 'class': 'contenttext responsive_col'})"
      ]
    },
    {
      "cell_type": "code",
      "execution_count": 8,
      "metadata": {
        "id": "NDq_ManvvQLC"
      },
      "outputs": [],
      "source": [
        "scraped_grouped_by_homestate = []\n",
        "if grouped_by_homestate:\n",
        "    for div in grouped_by_homestate:\n",
        "        scraped_grouped_by_homestate.append(div.get_text(strip=True))"
      ]
    },
    {
      "cell_type": "code",
      "execution_count": 9,
      "metadata": {
        "id": "FMlWQU0zvQLC"
      },
      "outputs": [],
      "source": [
        "n = len(scraped_grouped_by_homestate)\n",
        "dict_grouped_by_homestate = {}\n",
        "\n",
        "for i in range(n):\n",
        "    if i == 0 or i%3 == 0:\n",
        "        dict_grouped_by_homestate[scraped_grouped_by_homestate[i]] = [scraped_grouped_by_homestate[i+1], scraped_grouped_by_homestate[i+2]]"
      ]
    },
    {
      "cell_type": "markdown",
      "source": [
        "#### 6. How many states have both Republican senators?"
      ],
      "metadata": {
        "id": "NWigxN683CVW"
      }
    },
    {
      "cell_type": "code",
      "execution_count": 10,
      "metadata": {
        "colab": {
          "base_uri": "https://localhost:8080/"
        },
        "id": "53zy3dexvQLD",
        "outputId": "47b487b6-80a8-41a7-b01b-ee38f123d304"
      },
      "outputs": [
        {
          "output_type": "execute_result",
          "data": {
            "text/plain": [
              "22"
            ]
          },
          "metadata": {},
          "execution_count": 10
        }
      ],
      "source": [
        "both_republican_state = []\n",
        "for state, representatives in dict_grouped_by_homestate.items():\n",
        "    r = 0\n",
        "    for each in representatives:\n",
        "        if 'R-' in each:\n",
        "            r += 1\n",
        "            if r == 2:\n",
        "                both_republican_state.append(state)\n",
        "\n",
        "len(both_republican_state)"
      ]
    },
    {
      "cell_type": "markdown",
      "source": [
        "#### 9. What is the ratio of Democrats' major decision votes to Republicans' major decision votes?"
      ],
      "metadata": {
        "id": "2G0IBm4Q3dZ8"
      }
    },
    {
      "cell_type": "code",
      "source": [
        "len(Democratic)/len(Republican)"
      ],
      "metadata": {
        "colab": {
          "base_uri": "https://localhost:8080/"
        },
        "id": "8YlXcE6D3nQA",
        "outputId": "6995ce93-56dc-47f1-af75-0db8a6ac1ef8"
      },
      "execution_count": 12,
      "outputs": [
        {
          "output_type": "execute_result",
          "data": {
            "text/plain": [
              "0.96"
            ]
          },
          "metadata": {},
          "execution_count": 12
        }
      ]
    },
    {
      "cell_type": "markdown",
      "source": [
        "####5. How many states had at least one non-voting senator?"
      ],
      "metadata": {
        "id": "OlFKFos04BdH"
      }
    },
    {
      "cell_type": "code",
      "execution_count": 13,
      "metadata": {
        "colab": {
          "base_uri": "https://localhost:8080/"
        },
        "id": "jsUVyzFgvQLG",
        "outputId": "21ad8442-cc83-4816-9ac5-28ff09aa5149"
      },
      "outputs": [
        {
          "output_type": "execute_result",
          "data": {
            "text/plain": [
              "1"
            ]
          },
          "metadata": {},
          "execution_count": 13
        }
      ],
      "source": [
        "atleast_one_notvoting_senetor_state = []\n",
        "for state, representatives in dict_grouped_by_homestate.items():\n",
        "    r = 0\n",
        "    for each in representatives:\n",
        "        if 'Not' in each:\n",
        "            r += 1\n",
        "            if r >= 1:\n",
        "                atleast_one_notvoting_senetor_state.append(state)\n",
        "len(atleast_one_notvoting_senetor_state)"
      ]
    },
    {
      "cell_type": "markdown",
      "source": [
        "#### 12. How many senators voted \"Nay\"?"
      ],
      "metadata": {
        "id": "6iQ1M3Nl4PWU"
      }
    },
    {
      "cell_type": "code",
      "execution_count": 14,
      "metadata": {
        "colab": {
          "base_uri": "https://localhost:8080/"
        },
        "id": "OR-PTdlQvQLG",
        "outputId": "9e38d717-fc3b-48ae-cb7d-9fbe45c9d04a"
      },
      "outputs": [
        {
          "output_type": "execute_result",
          "data": {
            "text/plain": [
              "50"
            ]
          },
          "metadata": {},
          "execution_count": 14
        }
      ],
      "source": [
        "nay_count = len(nay(Alphabetical_by_Senator_Name_list))\n",
        "nay_count"
      ]
    },
    {
      "cell_type": "markdown",
      "source": [
        "####3. What is the total number of \"Yea\" votes from senators whose names start with \"B\"?"
      ],
      "metadata": {
        "id": "txaZ3D7b4aZV"
      }
    },
    {
      "cell_type": "code",
      "execution_count": 15,
      "metadata": {
        "id": "up_CC4HavQLG"
      },
      "outputs": [],
      "source": [
        "yea_votes_from_b_senators = [senator for senator in Alphabetical_by_Senator_Name_list if senator.startswith(\"B\") and \"Yea\" in senator]"
      ]
    },
    {
      "cell_type": "code",
      "execution_count": 16,
      "metadata": {
        "colab": {
          "base_uri": "https://localhost:8080/"
        },
        "id": "HZt0h-b_vQLH",
        "outputId": "944e2307-8112-4313-cbfe-e991019c4782"
      },
      "outputs": [
        {
          "output_type": "execute_result",
          "data": {
            "text/plain": [
              "6"
            ]
          },
          "metadata": {},
          "execution_count": 16
        }
      ],
      "source": [
        "yea_count_b = len(yea_votes_from_b_senators)\n",
        "yea_count_b"
      ]
    },
    {
      "cell_type": "markdown",
      "source": [
        "####1. How many Democrats did not vote?"
      ],
      "metadata": {
        "id": "kZuAOhS44n9I"
      }
    },
    {
      "cell_type": "code",
      "execution_count": 18,
      "metadata": {
        "colab": {
          "base_uri": "https://localhost:8080/"
        },
        "id": "wbumQvapvQLH",
        "outputId": "f982c490-ce2b-4a62-b1b2-164e2b458be6"
      },
      "outputs": [
        {
          "output_type": "execute_result",
          "data": {
            "text/plain": [
              "0"
            ]
          },
          "metadata": {},
          "execution_count": 18
        }
      ],
      "source": [
        "novote_count_democrat = len(novote(Democratic))\n",
        "novote_count_democrat"
      ]
    },
    {
      "cell_type": "markdown",
      "source": [
        "#### 10.What is the highest absolute percentage difference between \"Yea\" and \"Nay\" votes among different parties?"
      ],
      "metadata": {
        "id": "dwwU4wwU47J-"
      }
    },
    {
      "cell_type": "code",
      "execution_count": 20,
      "metadata": {
        "id": "zHWrw_v7vQLI"
      },
      "outputs": [],
      "source": [
        "def absolute_percentage_difference(value1, value2):\n",
        "    num = abs(value1 - value2)\n",
        "    deno = (value1 + value2) / 2\n",
        "    percentage_difference = (num / deno) * 100\n",
        "    return percentage_difference"
      ]
    },
    {
      "cell_type": "code",
      "source": [
        "print('absolute percentage difference for Republican:', absolute_percentage_difference(len(yea(Republican)), len(nay(Republican))))\n",
        "print('absolute percentage difference for Democrat:', absolute_percentage_difference(len(yea(Democratic)), len(nay(Democratic))))\n",
        "print('absolute percentage difference for Independent:', absolute_percentage_difference(len(yea(Independent)), len(nay(Independent))))"
      ],
      "metadata": {
        "colab": {
          "base_uri": "https://localhost:8080/"
        },
        "id": "SJaPMwXK5bUQ",
        "outputId": "f9ebe46e-212f-4e33-c2cb-db8e14f9f347"
      },
      "execution_count": 26,
      "outputs": [
        {
          "output_type": "stream",
          "name": "stdout",
          "text": [
            "absolute percentage difference for Republican: 200.0\n",
            "absolute percentage difference for Democrat: 200.0\n",
            "absolute percentage difference for Independent: 200.0\n"
          ]
        }
      ]
    },
    {
      "cell_type": "markdown",
      "source": [
        "#### 11.How many Democrats voted \"Yea\"?"
      ],
      "metadata": {
        "id": "PBcqRzA56fct"
      }
    },
    {
      "cell_type": "code",
      "execution_count": null,
      "metadata": {
        "id": "HnKeWuaovQLI",
        "outputId": "12cbd434-7b01-4508-a09a-5c855fef3630"
      },
      "outputs": [
        {
          "data": {
            "text/plain": [
              "0"
            ]
          },
          "execution_count": 24,
          "metadata": {},
          "output_type": "execute_result"
        }
      ],
      "source": [
        "yay_count_democrat = len(yea(Democratic))\n",
        "yay_count_democrat"
      ]
    },
    {
      "cell_type": "markdown",
      "source": [
        "#### 7.How many states have senators from both the Republican and Democrat parties?"
      ],
      "metadata": {
        "id": "aPv3usMp6puF"
      }
    },
    {
      "cell_type": "code",
      "execution_count": 27,
      "metadata": {
        "colab": {
          "base_uri": "https://localhost:8080/"
        },
        "id": "EitGuDk2vQLJ",
        "outputId": "514c3754-e08e-4a3e-cdde-e38330ca6a49"
      },
      "outputs": [
        {
          "output_type": "execute_result",
          "data": {
            "text/plain": [
              "5"
            ]
          },
          "metadata": {},
          "execution_count": 27
        }
      ],
      "source": [
        "both_republican_and_democrat_state = []\n",
        "for state, representatives in dict_grouped_by_homestate.items():\n",
        "    r = 0\n",
        "    d = 0\n",
        "    for each in representatives:\n",
        "        if 'R-' in each:\n",
        "            r += 1\n",
        "        if 'D-' in each:\n",
        "            d += 1\n",
        "        if r == 1 and d == 1:\n",
        "            both_republican_and_democrat_state.append(state)\n",
        "\n",
        "len(both_republican_and_democrat_state)"
      ]
    },
    {
      "cell_type": "markdown",
      "source": [
        "#### 14. How many senators did not vote?"
      ],
      "metadata": {
        "id": "h7xb6qYR66K_"
      }
    },
    {
      "cell_type": "code",
      "execution_count": 28,
      "metadata": {
        "colab": {
          "base_uri": "https://localhost:8080/"
        },
        "id": "2pBmykc-vQLJ",
        "outputId": "6e22a313-aef7-4797-b672-8b65b51bfb49"
      },
      "outputs": [
        {
          "output_type": "execute_result",
          "data": {
            "text/plain": [
              "1"
            ]
          },
          "metadata": {},
          "execution_count": 28
        }
      ],
      "source": [
        "nv_count = len(novote(Alphabetical_by_Senator_Name_list))\n",
        "nv_count"
      ]
    },
    {
      "cell_type": "code",
      "execution_count": null,
      "metadata": {
        "id": "wH1OPzgfvQLK"
      },
      "outputs": [],
      "source": []
    }
  ],
  "metadata": {
    "kernelspec": {
      "display_name": "Python 3",
      "language": "python",
      "name": "python3"
    },
    "language_info": {
      "codemirror_mode": {
        "name": "ipython",
        "version": 3
      },
      "file_extension": ".py",
      "mimetype": "text/x-python",
      "name": "python",
      "nbconvert_exporter": "python",
      "pygments_lexer": "ipython3",
      "version": "3.11.4"
    },
    "orig_nbformat": 4,
    "colab": {
      "provenance": []
    }
  },
  "nbformat": 4,
  "nbformat_minor": 0
}